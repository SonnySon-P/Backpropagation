{
  "nbformat": 4,
  "nbformat_minor": 0,
  "metadata": {
    "colab": {
      "provenance": []
    },
    "kernelspec": {
      "name": "python3",
      "display_name": "Python 3"
    },
    "language_info": {
      "name": "python"
    }
  },
  "cells": [
    {
      "cell_type": "code",
      "execution_count": 2,
      "metadata": {
        "colab": {
          "base_uri": "https://localhost:8080/"
        },
        "id": "PYz4YrrcgCBE",
        "outputId": "74f1aa28-03c2-4d06-986f-4e590633d8d2"
      },
      "outputs": [
        {
          "output_type": "stream",
          "name": "stdout",
          "text": [
            "第1次迭代，估計值是0.19100\n",
            "修正後權重 w1 = 0.12, w2 = 0.23, w3 = 0.13, w4 = 0.10, w5 = 0.17, w6 = 0.17\n",
            "[[0.12410754 0.13370575]\n",
            " [0.23116132 0.10055863]] [[0.1743825]\n",
            " [0.169416 ]]\n",
            "第2次迭代，估計值是0.26063\n",
            "修正後權重 w1 = 0.14, w2 = 0.25, w3 = 0.15, w4 = 0.12, w5 = 0.21, w6 = 0.19\n",
            "[[0.13957489 0.14778741]\n",
            " [0.25436233 0.12168111]] [[0.20919578]\n",
            " [0.19045435]]\n"
          ]
        }
      ],
      "source": [
        "import numpy as np\n",
        "\n",
        "w1 = 0.11\n",
        "w2 = 0.21\n",
        "w3 = 0.12\n",
        "w4 = 0.08\n",
        "w5 = 0.14\n",
        "w6 = 0.15\n",
        "\n",
        "inputs = np.array([2, 3])\n",
        "target = np.array([1])\n",
        "L_1_W = np.array(([[w1, w3], [w2, w4]]))\n",
        "L_2_W = np.array(([[w5], [w6]]))\n",
        "\n",
        "a = 0.05\n",
        "\n",
        "for i in range(2):\n",
        "  h = np.dot(inputs, L_1_W)\n",
        "  prediction = np.dot(h, L_2_W)\n",
        "  print('第%d次迭代，估計值是%.5f' %(i + 1, prediction))\n",
        "  d = prediction - target\n",
        "\n",
        "  L_2_W[1] = L_2_W[1] - a * h[1] * d\n",
        "  L_2_W[0] = L_2_W[0] - a * h[0] * d\n",
        "  L_1_W[1][1] = L_1_W[1][1] - a * inputs[1] * d * L_2_W[1]\n",
        "  L_1_W[1][0] = L_1_W[1][0] - a * inputs[1] * d * L_2_W[0]\n",
        "  L_1_W[0][1] = L_1_W[0][1] - a * inputs[0] * d * L_2_W[1]\n",
        "  L_1_W[0][0] = L_1_W[0][0] - a * inputs[0] * d * L_2_W[0]\n",
        "\n",
        "  print('修正後權重 w1 = %.2f, w2 = %.2f, w3 = %.2f, w4 = %.2f, w5 = %.2f, w6 = %.2f'%(L_1_W[0][0], L_1_W[1][0], L_1_W[0][1], L_1_W[1][1], L_2_W[0],  L_2_W[1]))\n",
        "\n",
        "  print(L_1_W, L_2_W)"
      ]
    }
  ]
}