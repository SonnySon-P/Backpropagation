{
  "nbformat": 4,
  "nbformat_minor": 0,
  "metadata": {
    "colab": {
      "provenance": []
    },
    "kernelspec": {
      "name": "python3",
      "display_name": "Python 3"
    },
    "language_info": {
      "name": "python"
    }
  },
  "cells": [
    {
      "cell_type": "code",
      "execution_count": null,
      "metadata": {
        "id": "PYz4YrrcgCBE"
      },
      "outputs": [],
      "source": [
        "import numpy as np\n",
        "\n",
        "w1 = 0.11\n",
        "w2 = 0.21\n",
        "w3 = 0.12\n",
        "w4 = 0.08\n",
        "w5 = 0.14\n",
        "w6 = 0.15\n",
        "\n",
        "inputs = np.array([2, 3])\n",
        "target = np.array([1])\n",
        "L_1_W = np.array(([[w1, w3], [w2, w4]]))\n",
        "L_2_W = np.array(([[w5], [w6]]))\n",
        "\n",
        "a = 0.05\n",
        "set_diff_val = 0.00001\n",
        "now_diff_val = 100\n",
        "\n",
        "i = 0\n",
        "while abs(now_diff_val) > set_diff_val:\n",
        "  h = np.dot(inputs, L_1_W)\n",
        "  prediction = np.dot(h, L_2_W)\n",
        "  print('第%d次迭代，估計值是%.5f' %(i + 1, prediction))\n",
        "  now_diff_val = prediction - target\n",
        "\n",
        "  L_2_W[1] = L_2_W[1] - a * h[1] * now_diff_val\n",
        "  L_2_W[0] = L_2_W[0] - a * h[0] * now_diff_val\n",
        "  L_1_W[1][1] = L_1_W[1][1] - a * inputs[1] * now_diff_val * L_2_W[1]\n",
        "  L_1_W[1][0] = L_1_W[1][0] - a * inputs[1] * now_diff_val * L_2_W[0]\n",
        "  L_1_W[0][1] = L_1_W[0][1] - a * inputs[0] * now_diff_val * L_2_W[1]\n",
        "  L_1_W[0][0] = L_1_W[0][0] - a * inputs[0] * now_diff_val * L_2_W[0]\n",
        "  print('修正後權重 w1 = %.2f, w2 = %.2f, w3 = %.2f, w4 = %.2f, w5 = %.2f, w6 = %.2f'%(L_1_W[0][0], L_1_W[1][0], L_1_W[0][1], L_1_W[1][1], L_2_W[0],  L_2_W[1]))\n",
        "\n",
        "  i = i + 1"
      ]
    }
  ]
}